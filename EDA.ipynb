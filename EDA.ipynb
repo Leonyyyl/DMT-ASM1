{
 "cells": [
  {
   "cell_type": "code",
   "execution_count": 78,
   "id": "f5d92dcf-d4fb-4822-a752-c656ac27396b",
   "metadata": {},
   "outputs": [],
   "source": [
    "import pandas as pd\n",
    "import numpy as np\n",
    "import matplotlib.pyplot as plt\n",
    "import seaborn as sns\n",
    "\n",
    "my_cmap = sns.light_palette(\"Navy\", as_cmap=True)"
   ]
  },
  {
   "cell_type": "code",
   "execution_count": 3,
   "id": "bb98ebd8-be80-4ee3-95df-aebfb54a9ee6",
   "metadata": {},
   "outputs": [],
   "source": [
    "df = pd.read_csv('dataset_mood_smartphone.csv')"
   ]
  },
  {
   "cell_type": "code",
   "execution_count": 4,
   "id": "cba7ed2f-2432-409d-a141-50d9c3d01a2a",
   "metadata": {},
   "outputs": [
    {
     "name": "stdout",
     "output_type": "stream",
     "text": [
      "column: id - percentage: 0.000\n",
      "\n",
      "column: time - percentage: 0.894\n",
      "\n",
      "column: variable - percentage: 0.000\n",
      "\n",
      "column: value - percentage: 0.347\n",
      "\n"
     ]
    }
   ],
   "source": [
    "# Percentage of unique values per column\n",
    "for col in df.columns[1:]:\n",
    "    uniques_prc = len(df[col].unique()) / len(df[col])\n",
    "    print('column: {} - percentage: {:.3f}'.format(col, uniques_prc))\n",
    "    print()"
   ]
  },
  {
   "cell_type": "code",
   "execution_count": 5,
   "id": "d03fabc2-6fb8-4390-8d01-3e49e27d288c",
   "metadata": {},
   "outputs": [
    {
     "data": {
      "text/html": [
       "<div>\n",
       "<style scoped>\n",
       "    .dataframe tbody tr th:only-of-type {\n",
       "        vertical-align: middle;\n",
       "    }\n",
       "\n",
       "    .dataframe tbody tr th {\n",
       "        vertical-align: top;\n",
       "    }\n",
       "\n",
       "    .dataframe thead th {\n",
       "        text-align: right;\n",
       "    }\n",
       "</style>\n",
       "<table border=\"1\" class=\"dataframe\">\n",
       "  <thead>\n",
       "    <tr style=\"text-align: right;\">\n",
       "      <th></th>\n",
       "      <th>Unnamed: 0</th>\n",
       "      <th>id</th>\n",
       "      <th>time</th>\n",
       "      <th>variable</th>\n",
       "      <th>value</th>\n",
       "    </tr>\n",
       "  </thead>\n",
       "  <tbody>\n",
       "    <tr>\n",
       "      <th>0</th>\n",
       "      <td>1</td>\n",
       "      <td>AS14.01</td>\n",
       "      <td>2014-02-26 13:00:00.000</td>\n",
       "      <td>mood</td>\n",
       "      <td>6.000</td>\n",
       "    </tr>\n",
       "    <tr>\n",
       "      <th>1</th>\n",
       "      <td>2</td>\n",
       "      <td>AS14.01</td>\n",
       "      <td>2014-02-26 15:00:00.000</td>\n",
       "      <td>mood</td>\n",
       "      <td>6.000</td>\n",
       "    </tr>\n",
       "    <tr>\n",
       "      <th>2</th>\n",
       "      <td>3</td>\n",
       "      <td>AS14.01</td>\n",
       "      <td>2014-02-26 18:00:00.000</td>\n",
       "      <td>mood</td>\n",
       "      <td>6.000</td>\n",
       "    </tr>\n",
       "    <tr>\n",
       "      <th>3</th>\n",
       "      <td>4</td>\n",
       "      <td>AS14.01</td>\n",
       "      <td>2014-02-26 21:00:00.000</td>\n",
       "      <td>mood</td>\n",
       "      <td>7.000</td>\n",
       "    </tr>\n",
       "    <tr>\n",
       "      <th>4</th>\n",
       "      <td>5</td>\n",
       "      <td>AS14.01</td>\n",
       "      <td>2014-02-27 09:00:00.000</td>\n",
       "      <td>mood</td>\n",
       "      <td>6.000</td>\n",
       "    </tr>\n",
       "    <tr>\n",
       "      <th>...</th>\n",
       "      <td>...</td>\n",
       "      <td>...</td>\n",
       "      <td>...</td>\n",
       "      <td>...</td>\n",
       "      <td>...</td>\n",
       "    </tr>\n",
       "    <tr>\n",
       "      <th>376907</th>\n",
       "      <td>2770399</td>\n",
       "      <td>AS14.30</td>\n",
       "      <td>2014-04-11 07:51:16.948</td>\n",
       "      <td>appCat.weather</td>\n",
       "      <td>8.032</td>\n",
       "    </tr>\n",
       "    <tr>\n",
       "      <th>376908</th>\n",
       "      <td>2772465</td>\n",
       "      <td>AS14.30</td>\n",
       "      <td>2014-04-19 11:00:32.747</td>\n",
       "      <td>appCat.weather</td>\n",
       "      <td>3.008</td>\n",
       "    </tr>\n",
       "    <tr>\n",
       "      <th>376909</th>\n",
       "      <td>2774026</td>\n",
       "      <td>AS14.30</td>\n",
       "      <td>2014-04-26 10:19:07.434</td>\n",
       "      <td>appCat.weather</td>\n",
       "      <td>7.026</td>\n",
       "    </tr>\n",
       "    <tr>\n",
       "      <th>376910</th>\n",
       "      <td>2774133</td>\n",
       "      <td>AS14.30</td>\n",
       "      <td>2014-04-27 00:44:48.450</td>\n",
       "      <td>appCat.weather</td>\n",
       "      <td>23.033</td>\n",
       "    </tr>\n",
       "    <tr>\n",
       "      <th>376911</th>\n",
       "      <td>2784435</td>\n",
       "      <td>AS14.32</td>\n",
       "      <td>2014-04-07 18:25:14.036</td>\n",
       "      <td>appCat.weather</td>\n",
       "      <td>22.431</td>\n",
       "    </tr>\n",
       "  </tbody>\n",
       "</table>\n",
       "<p>376710 rows × 5 columns</p>\n",
       "</div>"
      ],
      "text/plain": [
       "        Unnamed: 0       id                     time        variable   value\n",
       "0                1  AS14.01  2014-02-26 13:00:00.000            mood   6.000\n",
       "1                2  AS14.01  2014-02-26 15:00:00.000            mood   6.000\n",
       "2                3  AS14.01  2014-02-26 18:00:00.000            mood   6.000\n",
       "3                4  AS14.01  2014-02-26 21:00:00.000            mood   7.000\n",
       "4                5  AS14.01  2014-02-27 09:00:00.000            mood   6.000\n",
       "...            ...      ...                      ...             ...     ...\n",
       "376907     2770399  AS14.30  2014-04-11 07:51:16.948  appCat.weather   8.032\n",
       "376908     2772465  AS14.30  2014-04-19 11:00:32.747  appCat.weather   3.008\n",
       "376909     2774026  AS14.30  2014-04-26 10:19:07.434  appCat.weather   7.026\n",
       "376910     2774133  AS14.30  2014-04-27 00:44:48.450  appCat.weather  23.033\n",
       "376911     2784435  AS14.32  2014-04-07 18:25:14.036  appCat.weather  22.431\n",
       "\n",
       "[376710 rows x 5 columns]"
      ]
     },
     "execution_count": 5,
     "metadata": {},
     "output_type": "execute_result"
    }
   ],
   "source": [
    "# NaN values per column\n",
    "df.isnull().sum(axis = 0)\n",
    "df.dropna()"
   ]
  },
  {
   "cell_type": "code",
   "execution_count": 80,
   "metadata": {},
   "outputs": [
    {
     "data": {
      "image/png": "[encoded data removed]",
      "text/plain": [
       "<Figure size 480x720 with 1 Axes>"
      ]
     },
     "metadata": {
      "needs_background": "light"
     },
     "output_type": "display_data"
    },
    {
     "name": "stdout",
     "output_type": "stream",
     "text": [
      "<matplotlib.colors.LinearSegmentedColormap object at 0x7f6d9905dfd0>\n"
     ]
    }
   ],
   "source": [
    "# Obtain variables and their count\n",
    "variables_cnt = df.groupby(['variable']).count()\n",
    "variables = variables_cnt.index.values\n",
    "variables_cnt = variables_cnt.values[:,0]\n",
    "\n",
    "# Sorting\n",
    "p = variables_cnt.argsort()\n",
    "variables_cnt = np.flip(variables_cnt[p])\n",
    "variables = np.flip(variables[p])\n",
    "\n",
    "# Simple bar plot\n",
    "fig = plt.figure(figsize=(4,6), dpi=120)\n",
    "ax = fig.add_subplot(2, 1, 1)\n",
    "\n",
    "ax.bar(variables, variables_cnt, width=0.8)\n",
    "ax.set_yscale('log')\n",
    "\n",
    "plt.xticks(rotation=90, fontsize = 8)\n",
    "ax.set_xlabel('Occurences')\n",
    "ax.set_ylabel('Variable')\n",
    "ax.set_title('Occurences per variable')\n",
    "\n",
    "plt.tight_layout()\n",
    "plt.show()\n",
    "print(my_cmap)"
   ]
  }
 ],
 "metadata": {
  "kernelspec": {
   "display_name": "Python 3 (ipykernel)",
   "language": "python",
   "name": "python3"
  },
  "language_info": {
   "codemirror_mode": {
    "name": "ipython",
    "version": 3
   },
   "file_extension": ".py",
   "mimetype": "text/x-python",
   "name": "python",
   "nbconvert_exporter": "python",
   "pygments_lexer": "ipython3",
   "version": "3.9.4"
  }
 },
 "nbformat": 4,
 "nbformat_minor": 5
}

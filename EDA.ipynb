{
 "cells": [
  {
   "cell_type": "code",
   "execution_count": 1,
   "id": "f5d92dcf-d4fb-4822-a752-c656ac27396b",
   "metadata": {},
   "outputs": [],
   "source": [
    "import pandas as pd\n",
    "import numpy as np\n",
    "import matplotlib.pyplot as plt"
   ]
  },
  {
   "cell_type": "code",
   "execution_count": 7,
   "id": "bb98ebd8-be80-4ee3-95df-aebfb54a9ee6",
   "metadata": {},
   "outputs": [
    {
     "data": {
      "text/plain": [
       "0.8938611665322409"
      ]
     },
     "execution_count": 7,
     "metadata": {},
     "output_type": "execute_result"
    }
   ],
   "source": [
    "df = pd.read_csv('dataset_mood_smartphone.csv')"
   ]
  },
  {
   "cell_type": "code",
   "execution_count": 28,
   "id": "cba7ed2f-2432-409d-a141-50d9c3d01a2a",
   "metadata": {},
   "outputs": [
    {
     "name": "stdout",
     "output_type": "stream",
     "text": [
      "column: id - percentage: 0.000\n",
      "\n",
      "column: time - percentage: 0.894\n",
      "\n",
      "column: variable - percentage: 0.000\n",
      "\n",
      "column: value - percentage: 0.347\n",
      "\n"
     ]
    }
   ],
   "source": [
    "# Percentage of unique values per column\n",
    "for col in df.columns[1:]:\n",
    "    uniques_prc = len(df[col].unique()) / len(df[col])\n",
    "    print('column: {} - percentage: {:.3f}'.format(col, uniques_prc))\n",
    "    print()"
   ]
  },
  {
   "cell_type": "code",
   "execution_count": 30,
   "id": "d03fabc2-6fb8-4390-8d01-3e49e27d288c",
   "metadata": {},
   "outputs": [
    {
     "data": {
      "text/plain": [
       "Unnamed: 0      0\n",
       "id              0\n",
       "time            0\n",
       "variable        0\n",
       "value         202\n",
       "dtype: int64"
      ]
     },
     "execution_count": 30,
     "metadata": {},
     "output_type": "execute_result"
    }
   ],
   "source": [
    "# NaN values per column\n",
    "df.isnull().sum(axis = 0)\n",
    "df.dropna()"
   ]
  }
 ],
 "metadata": {
  "kernelspec": {
   "display_name": "Python 3 (ipykernel)",
   "language": "python",
   "name": "python3"
  },
  "language_info": {
   "codemirror_mode": {
    "name": "ipython",
    "version": 3
   },
   "file_extension": ".py",
   "mimetype": "text/x-python",
   "name": "python",
   "nbconvert_exporter": "python",
   "pygments_lexer": "ipython3",
   "version": "3.9.4"
  }
 },
 "nbformat": 4,
 "nbformat_minor": 5
}
